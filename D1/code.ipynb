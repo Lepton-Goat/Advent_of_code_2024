{
 "cells": [
  {
   "cell_type": "code",
   "execution_count": 16,
   "metadata": {},
   "outputs": [
    {
     "name": "stdout",
     "output_type": "stream",
     "text": [
      "1830467\n",
      "Code took :0.0031969547271728516 seconds\n"
     ]
    }
   ],
   "source": [
    "import numpy as np\n",
    "import pandas as pd\n",
    "import time\n",
    "\n",
    "t0 = time.time()\n",
    "df = pd.read_csv('input.csv')\n",
    "\n",
    "id1 = df['a'].to_numpy()\n",
    "id2 = df['b'].to_numpy()\n",
    "\n",
    "sorted_1 = np.sort(id1)\n",
    "sorted_2 = np.sort(id2)\n",
    "\n",
    "dist = np.sum(np.abs(sorted_1-sorted_2))\n",
    "print(dist)\n",
    "t1 = time.time()\n",
    "\n",
    "\n",
    "print(f'Code took :{t1-t0} seconds')\n"
   ]
  },
  {
   "cell_type": "code",
   "execution_count": 14,
   "metadata": {},
   "outputs": [
    {
     "name": "stdout",
     "output_type": "stream",
     "text": [
      "26674158\n",
      "time:0.009248971939086914\n"
     ]
    }
   ],
   "source": [
    "ta = time.time()\n",
    "df = pd.read_csv('input.csv')\n",
    "\n",
    "id1 = df['a'].to_numpy()\n",
    "id2 = df['b'].to_numpy()\n",
    "\n",
    "sorted_1 = np.sort(id1)\n",
    "sorted_2 = np.sort(id2)\n",
    "\n",
    "score = 0\n",
    "for num in sorted_1:\n",
    "    multi = np.count_nonzero(sorted_2 == num)\n",
    "    score += num*multi\n",
    "\n",
    "print(score)\n",
    "    \n",
    "tb = time.time()\n",
    "\n",
    "print(f'time:{tb-ta}')"
   ]
  },
  {
   "cell_type": "code",
   "execution_count": 15,
   "metadata": {},
   "outputs": [
    {
     "name": "stdout",
     "output_type": "stream",
     "text": [
      "26674158\n",
      "time:0.0031805038452148438\n"
     ]
    }
   ],
   "source": [
    "\n",
    "\n",
    "ta = time.time()\n",
    "\n",
    "df = pd.read_csv('input.csv')\n",
    "\n",
    "id1 = df['a'].to_numpy()\n",
    "id2 = df['b'].to_numpy()\n",
    "\n",
    "unique_values, counts = np.unique(id2, return_counts=True)\n",
    "value_counts = dict(zip(unique_values, counts))\n",
    "\n",
    "score = sum(num * value_counts.get(num, 0) for num in np.unique(id1))\n",
    "\n",
    "print(score)\n",
    "tb = time.time()\n",
    "print(f'time:{tb-ta}')"
   ]
  }
 ],
 "metadata": {
  "kernelspec": {
   "display_name": "advent",
   "language": "python",
   "name": "python3"
  },
  "language_info": {
   "codemirror_mode": {
    "name": "ipython",
    "version": 3
   },
   "file_extension": ".py",
   "mimetype": "text/x-python",
   "name": "python",
   "nbconvert_exporter": "python",
   "pygments_lexer": "ipython3",
   "version": "3.12.7"
  }
 },
 "nbformat": 4,
 "nbformat_minor": 2
}
