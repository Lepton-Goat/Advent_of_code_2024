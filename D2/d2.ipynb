{
 "cells": [
  {
   "cell_type": "code",
   "execution_count": 2,
   "metadata": {},
   "outputs": [
    {
     "name": "stdout",
     "output_type": "stream",
     "text": [
      "526\n",
      "474\n",
      "1000\n",
      "0.06827616691589355\n"
     ]
    }
   ],
   "source": [
    "import pandas as pd \n",
    "import numpy as np \n",
    "import time\n",
    "\n",
    "t0 = time.time()\n",
    "\n",
    "f = open('input.txt','r')\n",
    "\n",
    "total = 1000\n",
    "safe_count = 0\n",
    "unsafe_count = 0\n",
    "\n",
    "\n",
    "\n",
    "def check_increasing(arr):\n",
    "    test_arr = np.copy(arr)\n",
    "    indexed = np.insert(test_arr,0,0)\n",
    "    indexed = np.delete(indexed,-1)\n",
    "    order = arr - indexed\n",
    "    final = np.delete(order,0)\n",
    "    check = np.any(final > 3) or np.any(final < -3)\n",
    "    if check == False:\n",
    "        val = np.all(final > 0) if final[0] > 0 else np.all(final < 0)\n",
    "        if val == True:            \n",
    "            # print('array:',arr)\n",
    "            # print('diffs:',final)\n",
    "            return True\n",
    "        elif val == False:\n",
    "            # print('array:',arr)\n",
    "            # print('diffs:',final)\n",
    "            return False\n",
    "    elif check == True:\n",
    "        return False\n",
    "    \n",
    "\n",
    "\n",
    "\n",
    "\n",
    "\n",
    "for line in f:\n",
    "    new = np.fromstring(line,dtype=int, sep=' ')\n",
    "    if check_increasing(new) == True:\n",
    "        safe_count += 1\n",
    "    else:\n",
    "        unsafe_count +=1\n",
    "\n",
    "print(safe_count)\n",
    "print(unsafe_count)\n",
    "print(safe_count+unsafe_count)\n",
    "\n",
    "t1 = time.time()\n",
    "\n",
    "print(t1-t0)\n",
    "\n",
    "    \n",
    "    \n",
    "    \n",
    "\n"
   ]
  },
  {
   "cell_type": "code",
   "execution_count": 1,
   "metadata": {},
   "outputs": [
    {
     "name": "stdout",
     "output_type": "stream",
     "text": [
      "566\n",
      "434\n",
      "1000\n",
      "0.06860733032226562\n"
     ]
    }
   ],
   "source": [
    "import numpy as np\n",
    "\n",
    "import time\n",
    "\n",
    "t0 = time.time()\n",
    "\n",
    "f = open('input.txt', 'r')\n",
    "\n",
    "safe_count = 0\n",
    "unsafe_count = 0\n",
    "\n",
    "def check_increasing(arr):\n",
    "    diffs = np.diff(arr)\n",
    "    check = np.any(np.abs(diffs) > 3)\n",
    "    if not check:\n",
    "        return np.all(diffs > 0) or np.all(diffs < 0)\n",
    "    return False\n",
    "\n",
    "def check_with_tolerance(arr):\n",
    "    # If the array is already safe, return True\n",
    "    if check_increasing(arr):\n",
    "        return True\n",
    "    for i in range(len(arr)):\n",
    "        new_arr = np.delete(arr, i)\n",
    "        if check_increasing(new_arr):\n",
    "            return True\n",
    "    \n",
    "    # If no single removal makes the array safe, return False\n",
    "    return False\n",
    "\n",
    "for line in f:\n",
    "    new = np.fromstring(line, dtype=int, sep=' ')\n",
    "    if check_with_tolerance(new):\n",
    "        safe_count += 1\n",
    "    else:\n",
    "        unsafe_count += 1\n",
    "\n",
    "print(safe_count)\n",
    "print(unsafe_count)\n",
    "print(safe_count + unsafe_count)\n",
    "\n",
    "t1 = time.time()\n",
    "\n",
    "print(t1-t0)\n"
   ]
  }
 ],
 "metadata": {
  "kernelspec": {
   "display_name": "advent",
   "language": "python",
   "name": "python3"
  },
  "language_info": {
   "codemirror_mode": {
    "name": "ipython",
    "version": 3
   },
   "file_extension": ".py",
   "mimetype": "text/x-python",
   "name": "python",
   "nbconvert_exporter": "python",
   "pygments_lexer": "ipython3",
   "version": "3.12.7"
  }
 },
 "nbformat": 4,
 "nbformat_minor": 2
}
