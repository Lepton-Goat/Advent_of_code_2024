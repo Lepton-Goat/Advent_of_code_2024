{
 "cells": [
  {
   "cell_type": "code",
   "execution_count": 54,
   "metadata": {},
   "outputs": [
    {
     "name": "stdout",
     "output_type": "stream",
     "text": [
      "175615763.0\n",
      "0.002857685089111328\n"
     ]
    }
   ],
   "source": [
    "import re as re\n",
    "import numpy as np \n",
    "import time as t\n",
    "\n",
    "t0 = t.time()\n",
    "\n",
    "f = open('input.txt')\n",
    "\n",
    "pattern = r\"mul\\(\\d{1,3},\\d{1,3}\\)\"\n",
    "ans = 0\n",
    "\n",
    "def multiply(expression):\n",
    "    x, y = map(float, re.findall(r'\\d{1,3}', expression))\n",
    "    return x * y\n",
    "\n",
    "with open('input.txt') as f:\n",
    "    for line in f:\n",
    "        quers = re.findall(pattern,line)\n",
    "        for quer in quers:\n",
    "            ans += multiply(quer)\n",
    "\n",
    "print(ans)\n",
    "\n",
    "t1 = t.time()\n",
    "\n",
    "print(t1-t0)"
   ]
  },
  {
   "cell_type": "code",
   "execution_count": 62,
   "metadata": {},
   "outputs": [
    {
     "name": "stdout",
     "output_type": "stream",
     "text": [
      "74361272.0\n",
      "0.0026857852935791016\n"
     ]
    }
   ],
   "source": [
    "import re as re\n",
    "import numpy as np\n",
    "import time as t\n",
    "\n",
    "t0 = t.time()\n",
    "\n",
    "\n",
    "pattern = r\"mul\\(\\d{1,3}\\,\\d{1,3}\\)|do\\(\\)|don't\\(\\)\"\n",
    "ans2 = 0\n",
    "\n",
    "with open('input.txt') as f:\n",
    "    activated = True\n",
    "    for line in f:\n",
    "        quers = re.findall(pattern, line)\n",
    "        for quer in quers:\n",
    "            if quer == 'do()':\n",
    "                activated = True\n",
    "            elif quer == \"don't()\":\n",
    "                activated = False\n",
    "            else:\n",
    "                if activated == True:\n",
    "                    ans2 += multiply(quer)\n",
    "\n",
    "\n",
    "print(ans2)\n",
    "\n",
    "t1 = t.time()\n",
    "\n",
    "print(t1-t0)\n",
    "\n"
   ]
  }
 ],
 "metadata": {
  "kernelspec": {
   "display_name": "advent",
   "language": "python",
   "name": "python3"
  },
  "language_info": {
   "codemirror_mode": {
    "name": "ipython",
    "version": 3
   },
   "file_extension": ".py",
   "mimetype": "text/x-python",
   "name": "python",
   "nbconvert_exporter": "python",
   "pygments_lexer": "ipython3",
   "version": "3.12.7"
  }
 },
 "nbformat": 4,
 "nbformat_minor": 2
}
